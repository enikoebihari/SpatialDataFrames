{
 "cells": [
  {
   "cell_type": "markdown",
   "metadata": {},
   "source": [
    "# Using GeoPandas to compute \"pond connectivity\"\n",
    "One of our students has dug up a method for computing how connected ponds are in a landscape. This method involves computing the total length of \"to\" pond edge within a set distance of a given \"from\" pond. It also involves computing a convex hull around this segment of \"to\" pond edge. Here, we show how GeoPandas can do this from a shapefile of ponds. \n",
    "\n",
    "### Workflow\n",
    "1. Import pond shapefile into a geodataframe\n",
    " 1. Explore the geodataframe(table, plot, summary)\n",
    "1. Isolate a single \"from\" pond into a new geoseries\n",
    " 1. Compute a 200m buffer this pond\n",
    "1. Isolate all other \"to\" ponds into a new geodataframe\n",
    "1. Compute intersection of buffered ponds with the original pond\n",
    " 1. Calculate the total edge falling within the buffer (meters)\n",
    "1. Compute convex hulls around the intersecting edge\n",
    " 1. Calculate the total area of these convex_hulls"
   ]
  },
  {
   "cell_type": "markdown",
   "metadata": {},
   "source": [
    "## 1. Read in the shapefile and explore the data"
   ]
  },
  {
   "cell_type": "code",
   "execution_count": null,
   "metadata": {},
   "outputs": [],
   "source": [
    "%matplotlib inline\n",
    "\n",
    "import os\n",
    "import json\n",
    "\n",
    "import matplotlib as mpl\n",
    "import matplotlib.pyplot as plt\n",
    "\n",
    "from shapely.geometry import Point, linestring, Polygon\n",
    "import pandas as pd\n",
    "import geopandas as gpd\n",
    "from geopandas import GeoSeries, GeoDataFrame"
   ]
  },
  {
   "cell_type": "markdown",
   "metadata": {},
   "source": [
    "Read the shapefile of ponds into a geodataframe and examine the dataframe"
   ]
  },
  {
   "cell_type": "code",
   "execution_count": null,
   "metadata": {},
   "outputs": [],
   "source": [
    "#Read in \"DurhamKorstian_ponds_noriverine.shp\" as a geodataframe\n",
    "gdfPonds = gpd.read_file(os.path.join(data_pth,'DurhamKorstian_ponds_noriverine.shp'))"
   ]
  },
  {
   "cell_type": "code",
   "execution_count": null,
   "metadata": {},
   "outputs": [],
   "source": [
    "#Examine the geodataframe in tabular format\n",
    "gdfPonds.head()"
   ]
  },
  {
   "cell_type": "code",
   "execution_count": null,
   "metadata": {},
   "outputs": [],
   "source": [
    "#Examine the geodataframe in spatial format\n",
    "gdfPonds.plot(figsize=(15,6));"
   ]
  },
  {
   "cell_type": "code",
   "execution_count": null,
   "metadata": {},
   "outputs": [],
   "source": [
    "#Show how many features are in the geodataframe\n",
    "len(gdfPonds)"
   ]
  },
  {
   "cell_type": "code",
   "execution_count": null,
   "metadata": {},
   "outputs": [],
   "source": [
    "#Show the projection of the dataframe\n",
    "gdfPonds.crs"
   ]
  },
  {
   "cell_type": "markdown",
   "metadata": {},
   "source": [
    "## 2. Create a new dataset off ponds buffered 200m"
   ]
  },
  {
   "cell_type": "markdown",
   "metadata": {},
   "source": [
    "* First, we copy the original dataframe. Specifying `deep=True` indicates that we want a completely new dataframe, not just a new representation of the same dataframe. "
   ]
  },
  {
   "cell_type": "code",
   "execution_count": null,
   "metadata": {},
   "outputs": [],
   "source": [
    "#First copy the original dataframe (deep creates a \"true\" copy)\n",
    "gdfBufferedPonds = gdfPonds.copy(deep=True)"
   ]
  },
  {
   "cell_type": "markdown",
   "metadata": {},
   "source": [
    "* Next, we update the values in the geometry column (i.e., the GeoSeries) with a 200 m buffer of the original polygons"
   ]
  },
  {
   "cell_type": "code",
   "execution_count": null,
   "metadata": {},
   "outputs": [],
   "source": [
    "#Now update the geometry in the copied dataframe to be buffered values\n",
    "gdfBufferedPonds['geometry'] = gdfBufferedPonds['geometry'].buffer(200)"
   ]
  },
  {
   "cell_type": "markdown",
   "metadata": {},
   "source": [
    "* Let's take a look and see what we did"
   ]
  },
  {
   "cell_type": "code",
   "execution_count": null,
   "metadata": {},
   "outputs": [],
   "source": [
    "#Plot them, to make sure they look right\n",
    "fig, ax1 = plt.subplots(1, figsize=(16,8))  #Creates the plot canvas with one set of axes (i.e. one plot)\n",
    "gdfBufferedPonds.plot(ax=ax1,               #Adds the buffered featured to the axis\n",
    "                      facecolor='lightblue',  #Features in light blue\n",
    "                      edgecolor='gray',       #Outline in gray\n",
    "                      alpha=0.25              #25% opaque\n",
    "                     ) \n",
    "gdfPonds.plot(ax=ax1,facecolor='purple');   #Adds the original ponds to the on top of the plot"
   ]
  },
  {
   "cell_type": "markdown",
   "metadata": {},
   "source": [
    "---\n",
    "*Things are looking good. So let's now do our analysis. Here's the plan:*\n",
    "* Isolate a single pond from the buffered ponds dataframe (`fromPond`)\n",
    "* Create a dataframe of all the other ponds (`toPonds`)\n",
    "* Find the total edge in the `toPonds` dataset within the buffer distance of the `fromPond`\n",
    " * To do this, we need to convert the `toPonds` from a polygon to a polyline\n",
    " * Then we intersect the buffered `fromPond` geometry and the `toPonds` lines\n",
    "* Finally, we want to compute a convex hull around the `toPonds` edge found within the selected distance."
   ]
  },
  {
   "cell_type": "markdown",
   "metadata": {},
   "source": [
    "## 3. Construct new geodataframes: a single pond (buffered), and all the other ponds\n",
    "* To create the `fromPond` and `toPonds` datasets, we'll first create two masks - one of a selected pond and one of everything but the selected pond. To start, we'll set the 'fromPond' to be the second record (index = 1)."
   ]
  },
  {
   "cell_type": "code",
   "execution_count": null,
   "metadata": {},
   "outputs": [],
   "source": [
    "x = 1 #x will represent the index of a selected pond.\n",
    "\n",
    "#Create masks of (1) just a single pond and (2) all other ponds\n",
    "fromPond_mask = gdfPonds.index == x\n",
    "toPonds_mask = gdfPonds.index != x\n",
    "\n",
    "#Apply the masks to create new geodataframes of the single pond,\n",
    "# the single pond buffered, and all other ponds\n",
    "fromPond = gdfPonds[fromPond_mask]\n",
    "fromPond_200m = gdfBufferedPonds[fromPond_mask]\n",
    "toPonds= gdfPonds[toPonds_mask]"
   ]
  },
  {
   "cell_type": "markdown",
   "metadata": {},
   "source": [
    "* Now, let's look at our new geodataframes. We'll create a new canvas (`fig` and single plot `ax1`), then add three layers in order: first all the \"to ponds\" in blue, then on top of that the bufferd \"from pond\" in light blue, and finally the \"from pond\" itself in orange."
   ]
  },
  {
   "cell_type": "code",
   "execution_count": null,
   "metadata": {},
   "outputs": [],
   "source": [
    "#Plot buffered ponds, showing ours as red\n",
    "fig, ax1 = plt.subplots(1, figsize=(8, 8))\n",
    "toPonds.plot(ax=ax1, facecolor='blue',alpha=0.50)\n",
    "fromPond_200m.plot(ax=ax1, facecolor='lightblue',edgecolor='gray',alpha=0.35)\n",
    "fromPond.plot(ax=ax1, facecolor='orange',alpha=0.45)\n",
    "#Zoom into the shape\n",
    "plt.xlim((1997000,2001000))\n",
    "plt.ylim((810000,814000));"
   ]
  },
  {
   "cell_type": "markdown",
   "metadata": {},
   "source": [
    "### 4. Convert \"toPonds\" polygons to lines\n",
    "What we want to compute is how much \"to\" pond border is within the buffer distance of our \"from\" pond, so we need to convert the 'toPonds' dataset from a polygon to a polyline dataset. We do this by applying the `boundary` function to the geometry values in the dataset. We'll be overwriting the dataset's geometry values, so we'll make a copy and then revise the geometry values. "
   ]
  },
  {
   "cell_type": "code",
   "execution_count": null,
   "metadata": {},
   "outputs": [],
   "source": [
    "#Create a new geodataframe of just the selected pond's edges (convert to polyline)\n",
    "toPondEdges = fromPond.copy(deep=True) \n",
    "toPondEdges['geometry'] = toPondEdges['geometry'].boundary\n",
    "toPondEdges.type"
   ]
  },
  {
   "cell_type": "markdown",
   "metadata": {},
   "source": [
    "## 5. Select to-pond boundaries falling within the from-pond buffer \n",
    "We'll use GeoPanda's [**overlay operations**](http://geopandas.org/set_operations.html) to intersect the to-pond boundaries falling within the from-pond's buffer."
   ]
  },
  {
   "cell_type": "code",
   "execution_count": null,
   "metadata": {},
   "outputs": [],
   "source": [
    "#Create a new geodataframe of just the lines clipped by the pond buffer\n",
    "clippedPond = gpd.overlay(fromPond,toPondEdges,how='intersection')"
   ]
  },
  {
   "cell_type": "markdown",
   "metadata": {},
   "source": [
    "* *Turns out the `overlay` function only works with two polygon feature collections.* So as a workaround, we'll slightly buffer out to-pond edges to make them polygons."
   ]
  },
  {
   "cell_type": "code",
   "execution_count": null,
   "metadata": {},
   "outputs": [],
   "source": [
    "#Conver the geometry of the toPondEdges to a polygon\n",
    "toPondEdgesPoly = toPondEdges.copy(deep=True)\n",
    "toPondEdgesPoly['geometry'] = toPondEdgesPoly.buffer(1)"
   ]
  },
  {
   "cell_type": "code",
   "execution_count": null,
   "metadata": {},
   "outputs": [],
   "source": [
    "#Try again, but with the toPondEdgesPoly\n",
    "clippedPond = gpd.overlay(fromPond,toPondEdgesPoly,how='intersection')"
   ]
  },
  {
   "cell_type": "markdown",
   "metadata": {},
   "source": [
    "## 6. Compute the convex hull around the intersected pond borders\n",
    "Part of the analysis consists of computing convex hulls from the nearby pond edges. This is super easy to do with GeoPandas"
   ]
  },
  {
   "cell_type": "code",
   "execution_count": null,
   "metadata": {},
   "outputs": [],
   "source": [
    "#Create a new geodataframe consisting of the convex hulls of the nearby edges\n",
    "clippedHulls = clippedPond.copy(deep='True')\n",
    "clippedHulls['geometry'] = clippedHulls['geometry'].convex_hull"
   ]
  },
  {
   "cell_type": "code",
   "execution_count": null,
   "metadata": {},
   "outputs": [],
   "source": [
    "#And plot the outputs\n",
    "f, ax = plt.subplots(1)\n",
    "clippedHulls.plot(ax=ax,facecolor='red',edgecolor='red',alpha=0.25)\n",
    "clippedPond.plot(ax=ax,edgecolor='black',linewidth=2)\n",
    "fromPond.plot(ax=ax,facecolor='lightgreen',alpha=0.25)\n",
    "toPonds.plot(ax=ax, facecolor='blue',edgecolor='gray',alpha=0.25)\n",
    "plt.xlim((1998700,2000000))\n",
    "plt.ylim((811000,812000));"
   ]
  },
  {
   "cell_type": "markdown",
   "metadata": {},
   "source": [
    "## 7. Computing the results: \n",
    "So, how \"connected\" is Pond 1? We have two metrics to answer this:\n",
    "* The length of the nearby edges (however this is actually the perimeter of the clipped edge polys!)\n",
    "* The area of the convex hulls"
   ]
  },
  {
   "cell_type": "code",
   "execution_count": null,
   "metadata": {},
   "outputs": [],
   "source": [
    "#Print the sum of lenght and area of the respective geometries\n",
    "print(\"Total nearby edge: {:.0f} m\".format(clippedPond.length.sum()))\n",
    "print(\"Total nearby edge convex hull area {:.0f} m2\".format(clippedHulls.area.sum()))"
   ]
  },
  {
   "cell_type": "markdown",
   "metadata": {},
   "source": [
    "## Recap\n",
    "While not perfect (we had to convert our border back to a polygon), this exercise does illustrate key uses of GeoPandas and the powerful spatial analysis it adds to Pandas. If we wanted to, it wouldn't take much to extend this analysis to compute the total nearby edge and edge convex hull area for all ponds in our dataset: we'd just have to streamline our code and place it into a loop..."
   ]
  }
 ],
 "metadata": {
  "kernelspec": {
   "display_name": "Python 3",
   "language": "python",
   "name": "python3"
  },
  "language_info": {
   "codemirror_mode": {
    "name": "ipython",
    "version": 3
   },
   "file_extension": ".py",
   "mimetype": "text/x-python",
   "name": "python",
   "nbconvert_exporter": "python",
   "pygments_lexer": "ipython3",
   "version": "3.7.11"
  }
 },
 "nbformat": 4,
 "nbformat_minor": 2
}
